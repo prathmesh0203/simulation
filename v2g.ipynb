{
 "cells": [
  {
   "cell_type": "markdown",
   "metadata": {},
   "source": [
    "To change the optimization function to minimize utility costs based on hourly tariffs and demand charges, we need to adjust both the objective function and constraints. Here's the detailed process:\n",
    "Explanation\n",
    "\n",
    "    Objective Function:\n",
    "        We need to modify the objective function to minimize the sum of the hourly utility costs and the demand charges.\n",
    "        Utility Cost: This is calculated as the product of the hourly load profile and the hourly utility tariff.\n",
    "        Demand Charge: This is the product of the peak load and the demand charge rate.\n",
    "\n",
    "    Variables:\n",
    "        The existing variables (chargeprofiles, dischargeprofiles, total_load, max_load) are sufficient, but we'll also need an array for hourly utility tariffs.\n",
    "\n",
    "    Constraints:\n",
    "        The existing constraints related to the load profiles and state of charge will remain the same.\n",
    "\n",
    "Code Changes\n",
    "\n",
    "    Add Utility Tariffs and Demand Charge Rate:\n",
    "        Define an array for hourly utility tariffs.\n",
    "        Define a variable for the demand charge rate.\n",
    "\n",
    "    Modify the Objective Function:\n",
    "        Incorporate the utility cost and demand charge into the objective function.\n",
    "\n",
    "Here are the changes to the code:\n",
    "Step-by-Step Code Changes\n",
    "\n",
    "    Add Utility Tariffs and Demand Charge Rate:\n",
    "        Define hourly_tariffs as an array with 24 elements representing the tariff for each hour.\n",
    "        Define demand_charge_rate as the cost per unit of peak load."
   ]
  },
  {
   "cell_type": "code",
   "execution_count": 1,
   "metadata": {},
   "outputs": [],
   "source": [
    "hourly_tariffs = [0.1, 0.1, 0.1, 0.1, 0.1, 0.1, 0.2, 0.2, 0.2, 0.2, 0.2, 0.2, 0.3, 0.3, 0.3, 0.3, 0.3, 0.3, 0.4, 0.4, 0.4, 0.4, 0.4, 0.4]  # Example tariffs\n",
    "demand_charge_rate = 10  # Example demand charge rate\n"
   ]
  },
  {
   "cell_type": "code",
   "execution_count": 2,
   "metadata": {},
   "outputs": [
    {
     "data": {
      "text/plain": [
       "24"
      ]
     },
     "execution_count": 2,
     "metadata": {},
     "output_type": "execute_result"
    }
   ],
   "source": [
    "len(hourly_tariffs)"
   ]
  },
  {
   "cell_type": "markdown",
   "metadata": {},
   "source": [
    "Modify the Objective Function:\n",
    "\n",
    "    Add the utility cost and demand charge components to the objective function."
   ]
  },
  {
   "cell_type": "code",
   "execution_count": 3,
   "metadata": {},
   "outputs": [],
   "source": [
    "def V2G_optimization():\n",
    "    # initiate the problem statement\n",
    "    model = lp.LpProblem('Minimize_Utility_Cost', lp.LpMinimize)\n",
    "\n",
    "    # define optimization variables\n",
    "    veh_V2G = range(n_V2G_Veh)\n",
    "    time_Interval = range(24)\n",
    "    chargeprofiles = lp.LpVariable.dicts('charging_profiles', ((i, j) for i in veh_V2G for j in time_Interval), lowBound=0, upBound=power_managed_Uppper)\n",
    "    chargestates = lp.LpVariable.dicts('charging_states', ((i, j) for i in veh_V2G for j in time_Interval), cat='Binary')\n",
    "    dischargeprofiles = lp.LpVariable.dicts('discharging_profiles', ((i, j) for i in veh_V2G for j in time_Interval), lowBound=power_V2G_Lower, upBound=0)\n",
    "    dischargestates = lp.LpVariable.dicts('discharging_states', ((i, j) for i in veh_V2G for j in time_Interval), cat='Binary')\n",
    "    total_load = lp.LpVariable.dicts('total_load', time_Interval, lowBound=0)\n",
    "    max_load = lp.LpVariable('max_load', lowBound=0)\n",
    "    min_load = lp.LpVariable('min_load', lowBound=0)\n",
    "\n",
    "    # define objective function\n",
    "    utility_cost = lp.lpSum([total_load[t] * hourly_tariffs[t] for t in time_Interval])\n",
    "    demand_charge = max_load * demand_charge_rate\n",
    "    model += utility_cost + demand_charge\n",
    "\n",
    "    # define constraints\n",
    "    for t in time_Interval:  # constraint 1 & 2: to identify the max and min loads\n",
    "        model += total_load[t] <= max_load\n",
    "        # model += total_load[t] >= min_load\n",
    "\n",
    "    for t in time_Interval:  # constraint 3: calculate the total load at each time interval t\n",
    "        model += lp.lpSum([chargeprofiles[i, t] for i in veh_V2G]) + lp.lpSum([dischargeprofiles[i, t] * discharge_efficiency for i in veh_V2G]) + base_Load[t] + unmanaged_Load[t] == total_load[t]\n",
    "\n",
    "    for i in veh_V2G:  # constraint 4: constraint on charging powers for each EV: only optimize the charge profile between start and end charging time\n",
    "        temp_start = v2g_startingTime[i]\n",
    "        temp_end = v2g_endingTime[i]\n",
    "        if temp_start >= temp_end:\n",
    "            for t in range(temp_end):\n",
    "                model += chargestates[i, t] + dischargestates[i, t] <= 1\n",
    "                model += chargeprofiles[i, t] <= chargestates[i, t] * power_managed_Uppper\n",
    "                model += chargeprofiles[i, t] >= chargestates[i, t] * power_managed_Lower\n",
    "                model += dischargeprofiles[i, t] <= dischargestates[i, t] * power_V2G_Upper\n",
    "                model += dischargeprofiles[i, t] >= dischargestates[i, t] * power_V2G_Lower\n",
    "            for t in range(temp_end, temp_start, 1):\n",
    "                model += chargeprofiles[i, t] == 0\n",
    "                model += chargestates[i, t] == 0\n",
    "                model += dischargeprofiles[i, t] == 0\n",
    "                model += dischargestates[i, t] == 0\n",
    "            for t in range(temp_start, 24, 1):\n",
    "                model += chargestates[i, t] + dischargestates[i, t] <= 1\n",
    "                model += chargeprofiles[i, t] <= chargestates[i, t] * power_managed_Uppper\n",
    "                model += chargeprofiles[i, t] >= chargestates[i, t] * power_managed_Lower\n",
    "                model += dischargeprofiles[i, t] <= dischargestates[i, t] * power_V2G_Upper\n",
    "                model += dischargeprofiles[i, t] >= dischargestates[i, t] * power_V2G_Lower\n",
    "\n",
    "        if temp_start < temp_end:\n",
    "            for t in range(temp_start):\n",
    "                model += chargeprofiles[i, t] == 0\n",
    "                model += chargestates[i, t] == 0\n",
    "                model += dischargeprofiles[i, t] == 0\n",
    "                model += dischargestates[i, t] == 0\n",
    "            for t in range(temp_start, temp_end, 1):\n",
    "                model += chargestates[i, t] + dischargestates[i, t] <= 1\n",
    "                model += chargeprofiles[i, t] <= chargestates[i, t] * power_managed_Uppper\n",
    "                model += chargeprofiles[i, t] >= chargestates[i, t] * power_managed_Lower\n",
    "                model += dischargeprofiles[i, t] <= dischargestates[i, t] * power_V2G_Upper\n",
    "                model += dischargeprofiles[i, t] >= dischargestates[i, t] * power_V2G_Lower\n",
    "            for t in range(temp_end, 24, 1):\n",
    "                model += chargeprofiles[i, t] == 0\n",
    "                model += chargestates[i, t] == 0\n",
    "                model += dischargeprofiles[i, t] == 0\n",
    "                model += dischargestates[i, t] == 0\n",
    "\n",
    "    for i in veh_V2G:  # constraint 5: SOC constraint, cannot be greater than 1, end_SOC must be above certain levels\n",
    "        temp_start = v2g_startingTime[i]\n",
    "        temp_end = v2g_endingTime[i]\n",
    "        temp_startSOC = v2g_startingSOC[i]\n",
    "        if temp_start >= temp_end:\n",
    "            for t in range(temp_start + 1, 24, 1):\n",
    "                temp_timer = range(temp_start, t, 1)\n",
    "                model += temp_startSOC + lp.lpSum([chargeprofiles[i, tn] * charge_efficiency / batteryCapacity for tn in temp_timer]) + lp.lpSum([dischargeprofiles[i, tn] * (1 / batteryCapacity) for tn in temp_timer]) <= 1\n",
    "            for t in range(0, temp_end + 1, 1):\n",
    "                temp_timer = range(0, t, 1)\n",
    "                model += temp_startSOC + lp.lpSum([chargeprofiles[i, tn] * charge_efficiency / batteryCapacity for tn in range(temp_start, 24, 1)]) + lp.lpSum([chargeprofiles[i, tn] * charge_efficiency / batteryCapacity for tn in temp_timer]) + lp.lpSum([dischargeprofiles[i, tn] * (1 / batteryCapacity) for tn in range(temp_start, 24, 1)]) + lp.lpSum([dischargeprofiles[i, tn] * (1 / batteryCapacity) for tn in temp_timer]) <= 1\n",
    "            if end_SOC == 2:\n",
    "                model += temp_startSOC + lp.lpSum([chargeprofiles[i, tn] * charge_efficiency / batteryCapacity for tn in range(temp_start, 24, 1)]) + lp.lpSum([chargeprofiles[i, tn] * charge_efficiency / batteryCapacity for tn in temp_timer]) + lp.lpSum([dischargeprofiles[i, tn] * (1 / batteryCapacity) for tn in range(temp_start, 24, 1)]) + lp.lpSum([dischargeprofiles[i, tn] * (1 / batteryCapacity) for tn in temp_timer]) == 1\n",
    "\n",
    "        if temp_start < temp_end:\n",
    "            for t in range(temp_start + 1, temp_end + 1, 1):\n",
    "                temp_timer = range(temp_start, t, 1)\n",
    "                model += temp_startSOC + lp.lpSum([chargeprofiles[i, tn] * charge_efficiency / batteryCapacity for tn in temp_timer]) + lp.lpSum([dischargeprofiles[i, tn] * (1 / batteryCapacity) for tn in temp_timer]) <= 1\n",
    "            if end_SOC == 2:\n",
    "                model += temp_startSOC + lp.lpSum([chargeprofiles[i, tn] * charge_efficiency / batteryCapacity for tn in temp_timer]) + lp.lpSum([dischargeprofiles[i, tn] * (1 / batteryCapacity) for tn in temp_timer]) == 1\n",
    "\n",
    "    # solve the model\n",
    "    status = model.solve()\n",
    "    print(lp.LpStatus[status])\n",
    "    print(lp.value(max_load))\n",
    "\n",
    "    return chargeprofiles, dischargeprofiles, total_load\n"
   ]
  },
  {
   "cell_type": "markdown",
   "metadata": {},
   "source": [
    "Summary of Changes\n",
    "\n",
    "    Added New Variables:\n",
    "        hourly_tariffs: Array representing the hourly utility tariffs.\n",
    "        demand_charge_rate: The cost per unit of peak load.\n",
    "\n",
    "    Modified the Objective Function:\n",
    "        The objective function now includes the sum of hourly utility costs and the demand charge.\n",
    "\n",
    "    Kept the Constraints the Same:\n",
    "        Existing constraints on max and min loads, total load calculation, charging and discharging profiles, and SOC constraints are retained."
   ]
  }
 ],
 "metadata": {
  "kernelspec": {
   "display_name": "Python 3 (ipykernel)",
   "language": "python",
   "name": "python3"
  },
  "language_info": {
   "codemirror_mode": {
    "name": "ipython",
    "version": 3
   },
   "file_extension": ".py",
   "mimetype": "text/x-python",
   "name": "python",
   "nbconvert_exporter": "python",
   "pygments_lexer": "ipython3",
   "version": "3.11.7"
  }
 },
 "nbformat": 4,
 "nbformat_minor": 2
}
